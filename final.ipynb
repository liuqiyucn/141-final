{
 "cells": [
  {
   "cell_type": "code",
   "execution_count": 18,
   "id": "c28565a4",
   "metadata": {},
   "outputs": [
    {
     "name": "stdout",
     "output_type": "stream",
     "text": [
      "Gal 1 (x,y): -0.2544636955960953 -0.004503544752844479 \n",
      " Gal 2 (x,y): 0.2544636955960953 0.004503544752844479\n",
      "Gal 1 vel: 0.5671394903596894 0.5772656425416504 \n",
      " Gal 2 vel: -0.5671394903596894 -0.5772656425416504\n"
     ]
    },
    {
     "data": {
      "image/png": "[encoded data removed]",
      "text/plain": [
       "<Figure size 432x288 with 1 Axes>"
      ]
     },
     "metadata": {
      "needs_background": "light"
     },
     "output_type": "display_data"
    }
   ],
   "source": [
    "import matplotlib.pyplot as plt\n",
    "import numpy as np\n",
    "\n",
    "n1 = np.linspace(-np.pi,np.pi,100000)\n",
    "n2 = np.linspace(-np.pi,np.pi,100000)\n",
    "R_o = .25\n",
    "p = 2 * R_o\n",
    "u = 2.25\n",
    "M = 0.0625 + 0.1875 + 0.08334\n",
    "def orbit(n):\n",
    "    x = p * n\n",
    "    y = .5 * p * (1 - n**2)\n",
    "    #velocity\n",
    "    vx = p * (2 * np.sqrt(2) * np.sqrt(M)) / ( p * (1+n**2) * np.sqrt(p))\n",
    "    vy = -n*p *(2 * np.sqrt(2) * np.sqrt(M)) / ( p * (1+n**2)* np.sqrt(p))\n",
    "    return x , y, vx, vy\n",
    "\n",
    "\n",
    "#full path\n",
    "x1, y1, vx1, vy1 = orbit(n1)\n",
    "x2, y2, vx2, vy2 = orbit(n2)\n",
    "#intial pos and vel\n",
    "x_s1, y_s1, vx_s1, vy_s1 = orbit(np.radians(-0))\n",
    "x_s2, y_s2, vx_s2, vy_s2 = orbit(np.radians(90))\n",
    "\n",
    "#center mass m1 / (m1+m2) or m2 / (m1+m2) --> .5 in every casefor m1=m2=1\n",
    "x1 = x1/2\n",
    "y1 = y1/2\n",
    "x_s1 = x_s1/2\n",
    "y_s1 = y_s1/2\n",
    "x2 = -x2/2\n",
    "y2 = -y2/2\n",
    "x_s2 = -x_s2/2\n",
    "y_s2 = -y_s2/2\n",
    "vx1 = vx1/2\n",
    "vy1 = vy1/2\n",
    "vx_s1 = vx_s1/2\n",
    "vy_s1 = vy_s1/2\n",
    "vx_s2 = -vx_s2/2\n",
    "vy_s2 = -vy_s2/2\n",
    "vx2 = -vx2/2\n",
    "vy2 = -vy2/2\n",
    "j = 100000\n",
    "plt.plot(x1[0:j],y1[0:j])\n",
    "#plt.plot(x[200],y[200],'o')\n",
    "#plt.plot(0,0,'o')\n",
    "plt.plot(x2[0:j],y2[0:j])\n",
    "i = 33800\n",
    "plt.plot(x1[i],y1[i],'o',label='Gal 1')\n",
    "plt.plot(x2[i], y2[i],'o',label='Gal 2')\n",
    "plt.legend()\n",
    "print('Gal 1 (x,y):',x1[i],y1[i],'\\n Gal 2 (x,y):',x2[i],y2[i])\n",
    "print('Gal 1 vel:',vx1[i],vy1[i],'\\n Gal 2 vel:',vx2[i],vy2[i])\n"
   ]
  },
  {
   "cell_type": "code",
   "execution_count": 2,
   "id": "aec9b794",
   "metadata": {},
   "outputs": [
    {
     "name": "stdout",
     "output_type": "stream",
     "text": [
      "dx/dn dn/dt = dx/dt\n"
     ]
    }
   ],
   "source": []
  },
  {
   "cell_type": "code",
   "execution_count": null,
   "id": "bed40599",
   "metadata": {},
   "outputs": [],
   "source": []
  }
 ],
 "metadata": {
  "kernelspec": {
   "display_name": "Python 3 (ipykernel)",
   "language": "python",
   "name": "python3"
  },
  "language_info": {
   "codemirror_mode": {
    "name": "ipython",
    "version": 3
   },
   "file_extension": ".py",
   "mimetype": "text/x-python",
   "name": "python",
   "nbconvert_exporter": "python",
   "pygments_lexer": "ipython3",
   "version": "3.9.5"
  }
 },
 "nbformat": 4,
 "nbformat_minor": 5
}
